{
 "cells": [
  {
   "cell_type": "code",
   "execution_count": 1,
   "id": "43193a93",
   "metadata": {
    "_cell_guid": "b1076dfc-b9ad-4769-8c92-a6c4dae69d19",
    "_uuid": "8f2839f25d086af736a60e9eeb907d3b93b6e0e5",
    "execution": {
     "iopub.execute_input": "2023-04-16T19:20:44.184603Z",
     "iopub.status.busy": "2023-04-16T19:20:44.183668Z",
     "iopub.status.idle": "2023-04-16T19:20:44.202868Z",
     "shell.execute_reply": "2023-04-16T19:20:44.201981Z"
    },
    "papermill": {
     "duration": 0.027459,
     "end_time": "2023-04-16T19:20:44.205359",
     "exception": false,
     "start_time": "2023-04-16T19:20:44.177900",
     "status": "completed"
    },
    "tags": []
   },
   "outputs": [
    {
     "name": "stdout",
     "output_type": "stream",
     "text": [
      "/kaggle/input/california-housing-prices/housing.csv\n"
     ]
    }
   ],
   "source": [
    "import os\n",
    "for dirname, _, filenames in os.walk('/kaggle/input'):\n",
    "    for filename in filenames:\n",
    "        print(os.path.join(dirname, filename))\n",
    "\n",
    "# You can write up to 20GB to the current directory (/kaggle/working/) that gets preserved as output when you create a version using \"Save & Run All\" \n",
    "# You can also write temporary files to /kaggle/temp/, but they won't be saved outside of the current session"
   ]
  },
  {
   "cell_type": "code",
   "execution_count": 2,
   "id": "eb0699df",
   "metadata": {
    "execution": {
     "iopub.execute_input": "2023-04-16T19:20:44.212804Z",
     "iopub.status.busy": "2023-04-16T19:20:44.212396Z",
     "iopub.status.idle": "2023-04-16T19:20:44.219155Z",
     "shell.execute_reply": "2023-04-16T19:20:44.217943Z"
    },
    "papermill": {
     "duration": 0.01312,
     "end_time": "2023-04-16T19:20:44.221505",
     "exception": false,
     "start_time": "2023-04-16T19:20:44.208385",
     "status": "completed"
    },
    "tags": []
   },
   "outputs": [],
   "source": [
    "# Setup plotting\n",
    "import matplotlib.pyplot as plt\n",
    "plt.style.use('seaborn-whitegrid')\n",
    "# Setting Matplotlib defaults\n",
    "plt.rc('figure', autolayout=True)\n",
    "plt.rc('axes', labelweight='bold', labelsize='large', titleweight='bold', titlesize=18, titlepad=10)\n",
    "plt.rc('animation', html='html5')\n"
   ]
  },
  {
   "cell_type": "code",
   "execution_count": 3,
   "id": "de8c5c20",
   "metadata": {
    "execution": {
     "iopub.execute_input": "2023-04-16T19:20:44.228659Z",
     "iopub.status.busy": "2023-04-16T19:20:44.228233Z",
     "iopub.status.idle": "2023-04-16T19:20:53.732070Z",
     "shell.execute_reply": "2023-04-16T19:20:53.730741Z"
    },
    "papermill": {
     "duration": 9.510275,
     "end_time": "2023-04-16T19:20:53.734497",
     "exception": false,
     "start_time": "2023-04-16T19:20:44.224222",
     "status": "completed"
    },
    "tags": []
   },
   "outputs": [
    {
     "name": "stdout",
     "output_type": "stream",
     "text": [
      "There are 207 rows with missing values\n",
      "1.0 % of the rows are missing values\n"
     ]
    },
    {
     "data": {
      "text/html": [
       "<div>\n",
       "<style scoped>\n",
       "    .dataframe tbody tr th:only-of-type {\n",
       "        vertical-align: middle;\n",
       "    }\n",
       "\n",
       "    .dataframe tbody tr th {\n",
       "        vertical-align: top;\n",
       "    }\n",
       "\n",
       "    .dataframe thead th {\n",
       "        text-align: right;\n",
       "    }\n",
       "</style>\n",
       "<table border=\"1\" class=\"dataframe\">\n",
       "  <thead>\n",
       "    <tr style=\"text-align: right;\">\n",
       "      <th></th>\n",
       "      <th>longitude</th>\n",
       "      <th>latitude</th>\n",
       "      <th>housing_median_age</th>\n",
       "      <th>total_rooms</th>\n",
       "      <th>total_bedrooms</th>\n",
       "      <th>population</th>\n",
       "      <th>households</th>\n",
       "      <th>median_income</th>\n",
       "      <th>median_house_value</th>\n",
       "      <th>ocean_proximity</th>\n",
       "    </tr>\n",
       "  </thead>\n",
       "  <tbody>\n",
       "    <tr>\n",
       "      <th>0</th>\n",
       "      <td>-122.23</td>\n",
       "      <td>37.88</td>\n",
       "      <td>41.0</td>\n",
       "      <td>880.0</td>\n",
       "      <td>129.0</td>\n",
       "      <td>322.0</td>\n",
       "      <td>126.0</td>\n",
       "      <td>8.3252</td>\n",
       "      <td>452600.0</td>\n",
       "      <td>NEAR BAY</td>\n",
       "    </tr>\n",
       "    <tr>\n",
       "      <th>1</th>\n",
       "      <td>-122.22</td>\n",
       "      <td>37.86</td>\n",
       "      <td>21.0</td>\n",
       "      <td>7099.0</td>\n",
       "      <td>1106.0</td>\n",
       "      <td>2401.0</td>\n",
       "      <td>1138.0</td>\n",
       "      <td>8.3014</td>\n",
       "      <td>358500.0</td>\n",
       "      <td>NEAR BAY</td>\n",
       "    </tr>\n",
       "    <tr>\n",
       "      <th>2</th>\n",
       "      <td>-122.24</td>\n",
       "      <td>37.85</td>\n",
       "      <td>52.0</td>\n",
       "      <td>1467.0</td>\n",
       "      <td>190.0</td>\n",
       "      <td>496.0</td>\n",
       "      <td>177.0</td>\n",
       "      <td>7.2574</td>\n",
       "      <td>352100.0</td>\n",
       "      <td>NEAR BAY</td>\n",
       "    </tr>\n",
       "    <tr>\n",
       "      <th>3</th>\n",
       "      <td>-122.25</td>\n",
       "      <td>37.85</td>\n",
       "      <td>52.0</td>\n",
       "      <td>1274.0</td>\n",
       "      <td>235.0</td>\n",
       "      <td>558.0</td>\n",
       "      <td>219.0</td>\n",
       "      <td>5.6431</td>\n",
       "      <td>341300.0</td>\n",
       "      <td>NEAR BAY</td>\n",
       "    </tr>\n",
       "    <tr>\n",
       "      <th>4</th>\n",
       "      <td>-122.25</td>\n",
       "      <td>37.85</td>\n",
       "      <td>52.0</td>\n",
       "      <td>1627.0</td>\n",
       "      <td>280.0</td>\n",
       "      <td>565.0</td>\n",
       "      <td>259.0</td>\n",
       "      <td>3.8462</td>\n",
       "      <td>342200.0</td>\n",
       "      <td>NEAR BAY</td>\n",
       "    </tr>\n",
       "  </tbody>\n",
       "</table>\n",
       "</div>"
      ],
      "text/plain": [
       "   longitude  latitude  housing_median_age  total_rooms  total_bedrooms  \\\n",
       "0    -122.23     37.88                41.0        880.0           129.0   \n",
       "1    -122.22     37.86                21.0       7099.0          1106.0   \n",
       "2    -122.24     37.85                52.0       1467.0           190.0   \n",
       "3    -122.25     37.85                52.0       1274.0           235.0   \n",
       "4    -122.25     37.85                52.0       1627.0           280.0   \n",
       "\n",
       "   population  households  median_income  median_house_value ocean_proximity  \n",
       "0       322.0       126.0         8.3252            452600.0        NEAR BAY  \n",
       "1      2401.0      1138.0         8.3014            358500.0        NEAR BAY  \n",
       "2       496.0       177.0         7.2574            352100.0        NEAR BAY  \n",
       "3       558.0       219.0         5.6431            341300.0        NEAR BAY  \n",
       "4       565.0       259.0         3.8462            342200.0        NEAR BAY  "
      ]
     },
     "execution_count": 3,
     "metadata": {},
     "output_type": "execute_result"
    }
   ],
   "source": [
    "import pandas as pd\n",
    "from sklearn.preprocessing import StandardScaler, OneHotEncoder, OrdinalEncoder\n",
    "from sklearn.compose import make_column_transformer\n",
    "from sklearn.model_selection import GroupShuffleSplit\n",
    "\n",
    "from tensorflow import keras\n",
    "from tensorflow.keras import layers\n",
    "from tensorflow.keras import callbacks\n",
    "\n",
    "# Read the data\n",
    "data = pd.read_csv('../input/california-housing-prices/housing.csv')\n",
    "num_rows = data.shape[0]\n",
    "\n",
    "# count the number of rows with missing values\n",
    "num_missing = data.isnull().sum(axis=1).sum()\n",
    "percent_of_rows_missing = round(((num_missing/num_rows)*100), 2)\n",
    "\n",
    "# print the result\n",
    "print(f\"There are {num_missing} rows with missing values\")\n",
    "print(f\"{percent_of_rows_missing} % of the rows are missing values\")\n",
    "data.head()"
   ]
  },
  {
   "cell_type": "code",
   "execution_count": 4,
   "id": "cdb2d452",
   "metadata": {
    "execution": {
     "iopub.execute_input": "2023-04-16T19:20:53.742737Z",
     "iopub.status.busy": "2023-04-16T19:20:53.741937Z",
     "iopub.status.idle": "2023-04-16T19:20:53.794340Z",
     "shell.execute_reply": "2023-04-16T19:20:53.793245Z"
    },
    "papermill": {
     "duration": 0.059545,
     "end_time": "2023-04-16T19:20:53.797116",
     "exception": false,
     "start_time": "2023-04-16T19:20:53.737571",
     "status": "completed"
    },
    "tags": []
   },
   "outputs": [
    {
     "name": "stdout",
     "output_type": "stream",
     "text": [
      "['NEAR BAY' '<1H OCEAN' 'INLAND' 'NEAR OCEAN' 'ISLAND']\n",
      "Input Shape: [9]\n",
      "[ 0.71651499 -0.87261308  1.21379153 -0.49660093 -0.17859959 -0.67771788\n",
      " -0.24656235  0.1982398   1.        ]\n"
     ]
    }
   ],
   "source": [
    "from sklearn.model_selection import train_test_split\n",
    "\n",
    "\n",
    "X = data.copy().dropna() # only 1% of rows are missing values so we will just drop them\n",
    "y = X.pop('median_house_value')\n",
    "\n",
    "features_num = ['longitude', 'latitude', 'housing_median_age', 'total_rooms',\n",
    "               'total_bedrooms','population', 'households','median_income']\n",
    "\n",
    "features_cat = ['ocean_proximity']\n",
    "\n",
    "# Chose Ordinal Encoding since the categories are roughly ordered\n",
    "print(data['ocean_proximity'].unique())\n",
    "order_of_ocean_proximity = ['ISLAND','NEAR OCEAN','NEAR BAY','<1H OCEAN','INLAND']\n",
    "\n",
    "preprocessor = make_column_transformer(\n",
    "(StandardScaler(), features_num),\n",
    "(OrdinalEncoder(categories = [order_of_ocean_proximity]), features_cat),\n",
    ")\n",
    "\n",
    "X_train, X_valid, y_train, y_valid = train_test_split(X, y, train_size=0.8, test_size=0.2)\n",
    "\n",
    "X_train = preprocessor.fit_transform(X_train)\n",
    "X_valid = preprocessor.transform(X_valid)\n",
    "y_train = y_train / 100\n",
    "y_valid = y_valid / 100\n",
    "\n",
    "input_shape = [X_train.shape[1]]\n",
    "print(f\"Input Shape: {input_shape}\")\n",
    "print(X_train[0])\n"
   ]
  },
  {
   "cell_type": "code",
   "execution_count": 5,
   "id": "7df77e5c",
   "metadata": {
    "execution": {
     "iopub.execute_input": "2023-04-16T19:20:53.804908Z",
     "iopub.status.busy": "2023-04-16T19:20:53.804527Z",
     "iopub.status.idle": "2023-04-16T19:20:53.810770Z",
     "shell.execute_reply": "2023-04-16T19:20:53.809533Z"
    },
    "papermill": {
     "duration": 0.012729,
     "end_time": "2023-04-16T19:20:53.813015",
     "exception": false,
     "start_time": "2023-04-16T19:20:53.800286",
     "status": "completed"
    },
    "tags": []
   },
   "outputs": [],
   "source": [
    "from tensorflow.keras.callbacks import EarlyStopping\n",
    "\n",
    "early_stopping = EarlyStopping(\n",
    "min_delta = 5,\n",
    "patience = 5,\n",
    "restore_best_weights = True)"
   ]
  },
  {
   "cell_type": "code",
   "execution_count": 6,
   "id": "209c9d48",
   "metadata": {
    "execution": {
     "iopub.execute_input": "2023-04-16T19:20:53.821317Z",
     "iopub.status.busy": "2023-04-16T19:20:53.820529Z",
     "iopub.status.idle": "2023-04-16T19:22:03.997207Z",
     "shell.execute_reply": "2023-04-16T19:22:03.996314Z"
    },
    "papermill": {
     "duration": 70.183524,
     "end_time": "2023-04-16T19:22:03.999706",
     "exception": false,
     "start_time": "2023-04-16T19:20:53.816182",
     "status": "completed"
    },
    "tags": []
   },
   "outputs": [
    {
     "name": "stdout",
     "output_type": "stream",
     "text": [
      "Epoch 1/100\n",
      "256/256 [==============================] - 7s 15ms/step - loss: 2064.0164 - mae: 2064.0164 - val_loss: 2036.6819 - val_mae: 2036.6819\n",
      "Epoch 2/100\n",
      "256/256 [==============================] - 3s 13ms/step - loss: 2020.5293 - mae: 2020.5293 - val_loss: 1970.7361 - val_mae: 1970.7361\n",
      "Epoch 3/100\n",
      "256/256 [==============================] - 4s 14ms/step - loss: 1934.2566 - mae: 1934.2566 - val_loss: 1901.3235 - val_mae: 1901.3235\n",
      "Epoch 4/100\n",
      "256/256 [==============================] - 3s 14ms/step - loss: 1808.8149 - mae: 1808.8149 - val_loss: 1647.1353 - val_mae: 1647.1353\n",
      "Epoch 5/100\n",
      "256/256 [==============================] - 3s 14ms/step - loss: 1647.4177 - mae: 1647.4177 - val_loss: 1512.3599 - val_mae: 1512.3599\n",
      "Epoch 6/100\n",
      "256/256 [==============================] - 3s 13ms/step - loss: 1453.6063 - mae: 1453.6063 - val_loss: 1314.1753 - val_mae: 1314.1753\n",
      "Epoch 7/100\n",
      "256/256 [==============================] - 3s 13ms/step - loss: 1230.6261 - mae: 1230.6261 - val_loss: 1078.1328 - val_mae: 1078.1328\n",
      "Epoch 8/100\n",
      "256/256 [==============================] - 3s 13ms/step - loss: 986.6951 - mae: 986.6951 - val_loss: 862.4260 - val_mae: 862.4260\n",
      "Epoch 9/100\n",
      "256/256 [==============================] - 3s 13ms/step - loss: 750.9632 - mae: 750.9632 - val_loss: 654.7158 - val_mae: 654.7158\n",
      "Epoch 10/100\n",
      "256/256 [==============================] - 4s 14ms/step - loss: 566.9816 - mae: 566.9816 - val_loss: 535.2687 - val_mae: 535.2687\n",
      "Epoch 11/100\n",
      "256/256 [==============================] - 3s 13ms/step - loss: 463.0695 - mae: 463.0695 - val_loss: 448.5240 - val_mae: 448.5240\n",
      "Epoch 12/100\n",
      "256/256 [==============================] - 3s 13ms/step - loss: 422.0865 - mae: 422.0865 - val_loss: 413.4353 - val_mae: 413.4353\n",
      "Epoch 13/100\n",
      "256/256 [==============================] - 3s 13ms/step - loss: 410.1541 - mae: 410.1541 - val_loss: 382.4730 - val_mae: 382.4730\n",
      "Epoch 14/100\n",
      "256/256 [==============================] - 3s 13ms/step - loss: 396.7574 - mae: 396.7574 - val_loss: 359.8007 - val_mae: 359.8007\n",
      "Epoch 15/100\n",
      "256/256 [==============================] - 3s 13ms/step - loss: 397.4095 - mae: 397.4095 - val_loss: 364.3104 - val_mae: 364.3104\n",
      "Epoch 16/100\n",
      "256/256 [==============================] - 4s 14ms/step - loss: 387.8671 - mae: 387.8671 - val_loss: 361.2053 - val_mae: 361.2053\n",
      "Epoch 17/100\n",
      "256/256 [==============================] - 4s 14ms/step - loss: 392.1443 - mae: 392.1443 - val_loss: 363.5991 - val_mae: 363.5991\n",
      "Epoch 18/100\n",
      "256/256 [==============================] - 3s 13ms/step - loss: 389.3597 - mae: 389.3597 - val_loss: 355.3270 - val_mae: 355.3270\n",
      "Epoch 19/100\n",
      "256/256 [==============================] - 4s 14ms/step - loss: 376.3877 - mae: 376.3877 - val_loss: 359.0409 - val_mae: 359.0409\n",
      "Minimum Validation Loss: 355.3270\n"
     ]
    },
    {
     "data": {
      "image/png": "[encoded data removed]",
      "text/plain": [
       "<Figure size 640x480 with 1 Axes>"
      ]
     },
     "metadata": {},
     "output_type": "display_data"
    }
   ],
   "source": [
    "from tensorflow.keras.optimizers import Adam\n",
    "from tensorflow.keras.activations import elu\n",
    "\n",
    "model = keras.Sequential([\n",
    "    layers.BatchNormalization(input_shape=input_shape),\n",
    "    \n",
    "    layers.Dense(512, activation ='relu'),\n",
    "#     layers.Dropout(rate = 0.1),\n",
    "    layers.BatchNormalization(),\n",
    "    \n",
    "    layers.Dense(512, activation ='relu'),\n",
    "#     layers.Dropout(rate = 0.1),\n",
    "    layers.BatchNormalization(),\n",
    "    \n",
    "    layers.Dense(512, activation ='relu'),\n",
    "#     layers.Dropout(rate = 0.1),\n",
    "    layers.BatchNormalization(),\n",
    "    \n",
    "    layers.Dense(512, activation = 'relu'),\n",
    "#     layers.Dropout(rate = 0.1),\n",
    "    layers.BatchNormalization(),\n",
    "    \n",
    "    layers.Dense(1)\n",
    "    \n",
    "])\n",
    "\n",
    "my_optimizer = Adam(learning_rate=0.0005, beta_1=0.9, beta_2=0.999)\n",
    "\n",
    "model.compile(\n",
    "    optimizer = my_optimizer,\n",
    "    loss = 'mae',\n",
    "    metrics = ['mae'],\n",
    "\n",
    ")\n",
    "\n",
    "EPOCHS = 100\n",
    "\n",
    "history = model.fit(\n",
    "    X_train, y_train,\n",
    "    validation_data = (X_valid, y_valid),\n",
    "    batch_size = 64,\n",
    "    epochs = EPOCHS,\n",
    "    verbose = 1,\n",
    "    callbacks = [early_stopping]\n",
    ")\n",
    "\n",
    "history_dataframe = pd.DataFrame(history.history)\n",
    "history_dataframe.loc[0:, ['loss', 'val_loss']].plot()\n",
    "print((\"Minimum Validation Loss: {:0.4f}\").format(history_dataframe['val_loss'].min()))"
   ]
  }
 ],
 "metadata": {
  "kernelspec": {
   "display_name": "Python 3",
   "language": "python",
   "name": "python3"
  },
  "language_info": {
   "codemirror_mode": {
    "name": "ipython",
    "version": 3
   },
   "file_extension": ".py",
   "mimetype": "text/x-python",
   "name": "python",
   "nbconvert_exporter": "python",
   "pygments_lexer": "ipython3",
   "version": "3.7.12"
  },
  "papermill": {
   "default_parameters": {},
   "duration": 92.748852,
   "end_time": "2023-04-16T19:22:06.715536",
   "environment_variables": {},
   "exception": null,
   "input_path": "__notebook__.ipynb",
   "output_path": "__notebook__.ipynb",
   "parameters": {},
   "start_time": "2023-04-16T19:20:33.966684",
   "version": "2.4.0"
  }
 },
 "nbformat": 4,
 "nbformat_minor": 5
}
